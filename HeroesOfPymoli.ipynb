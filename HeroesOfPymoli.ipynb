{
 "cells": [
  {
   "cell_type": "code",
   "execution_count": 43,
   "metadata": {},
   "outputs": [],
   "source": [
    "import pandas as pd\n",
    "import numpy as np"
   ]
  },
  {
   "cell_type": "code",
   "execution_count": 44,
   "metadata": {},
   "outputs": [],
   "source": [
    "file = ('~/Downloads/purchase_data.csv')\n",
    "pur_data = pd.read_csv(file)"
   ]
  },
  {
   "cell_type": "code",
   "execution_count": 45,
   "metadata": {},
   "outputs": [
    {
     "data": {
      "text/html": [
       "<div>\n",
       "<style scoped>\n",
       "    .dataframe tbody tr th:only-of-type {\n",
       "        vertical-align: middle;\n",
       "    }\n",
       "\n",
       "    .dataframe tbody tr th {\n",
       "        vertical-align: top;\n",
       "    }\n",
       "\n",
       "    .dataframe thead th {\n",
       "        text-align: right;\n",
       "    }\n",
       "</style>\n",
       "<table border=\"1\" class=\"dataframe\">\n",
       "  <thead>\n",
       "    <tr style=\"text-align: right;\">\n",
       "      <th></th>\n",
       "    </tr>\n",
       "    <tr>\n",
       "      <th>Total Players</th>\n",
       "    </tr>\n",
       "  </thead>\n",
       "  <tbody>\n",
       "    <tr>\n",
       "      <th>576</th>\n",
       "    </tr>\n",
       "  </tbody>\n",
       "</table>\n",
       "</div>"
      ],
      "text/plain": [
       "Empty DataFrame\n",
       "Columns: []\n",
       "Index: [576]"
      ]
     },
     "execution_count": 45,
     "metadata": {},
     "output_type": "execute_result"
    }
   ],
   "source": [
    "player_count = len(pur_data['SN'].unique())\n",
    "players_df = pd.DataFrame([{'Total Players': player_count}])\n",
    "players_df.set_index('Total Players', inplace = True)\n",
    "players_df"
   ]
  },
  {
   "cell_type": "code",
   "execution_count": 46,
   "metadata": {},
   "outputs": [
    {
     "data": {
      "text/html": [
       "<style  type=\"text/css\" >\n",
       "</style><table id=\"T_70b96f3e_9bba_11e9_b592_64c753db74e6\" ><thead>    <tr>        <th class=\"blank level0\" ></th>        <th class=\"col_heading level0 col0\" >Average Purchase Price</th>        <th class=\"col_heading level0 col1\" >Number of Unique Items</th>        <th class=\"col_heading level0 col2\" >Total Purchases</th>        <th class=\"col_heading level0 col3\" >Total Revenue</th>    </tr></thead><tbody>\n",
       "                <tr>\n",
       "                        <th id=\"T_70b96f3e_9bba_11e9_b592_64c753db74e6level0_row0\" class=\"row_heading level0 row0\" >0</th>\n",
       "                        <td id=\"T_70b96f3e_9bba_11e9_b592_64c753db74e6row0_col0\" class=\"data row0 col0\" >$3.05</td>\n",
       "                        <td id=\"T_70b96f3e_9bba_11e9_b592_64c753db74e6row0_col1\" class=\"data row0 col1\" >183</td>\n",
       "                        <td id=\"T_70b96f3e_9bba_11e9_b592_64c753db74e6row0_col2\" class=\"data row0 col2\" >780</td>\n",
       "                        <td id=\"T_70b96f3e_9bba_11e9_b592_64c753db74e6row0_col3\" class=\"data row0 col3\" >$2,379.77</td>\n",
       "            </tr>\n",
       "    </tbody></table>"
      ],
      "text/plain": [
       "<pandas.io.formats.style.Styler at 0x11af59828>"
      ]
     },
     "execution_count": 46,
     "metadata": {},
     "output_type": "execute_result"
    }
   ],
   "source": [
    "no_dup_items = pur_data.drop_duplicates(['Item ID'], keep = 'last')\n",
    "total_unique = len(no_dup_items)\n",
    "total_pur = pur_data['Price'].count()\n",
    "total_rev = round(pur_data['Price'].sum(),2)\n",
    "avg_price = round(total_rev/total_pur, 2)\n",
    "pur_analysis = pd.DataFrame([{\n",
    "    \n",
    "    \"Number of Unique Items\": total_unique,\n",
    "    'Average Purchase Price': avg_price,\n",
    "    'Total Purchases': total_pur,\n",
    "    'Total Revenue': total_rev\n",
    "}])\n",
    "pur_analysis.style.format({'Average Purchase Price': '${:.2f}', 'Total Revenue': '${:,.2f}'})"
   ]
  },
  {
   "cell_type": "code",
   "execution_count": 47,
   "metadata": {},
   "outputs": [
    {
     "data": {
      "text/html": [
       "<style  type=\"text/css\" >\n",
       "</style><table id=\"T_711ab712_9bba_11e9_b592_64c753db74e6\" ><thead>    <tr>        <th class=\"blank level0\" ></th>        <th class=\"col_heading level0 col0\" ># of Players</th>        <th class=\"col_heading level0 col1\" >% of Players</th>    </tr>    <tr>        <th class=\"index_name level0\" >Gender</th>        <th class=\"blank\" ></th>        <th class=\"blank\" ></th>    </tr></thead><tbody>\n",
       "                <tr>\n",
       "                        <th id=\"T_711ab712_9bba_11e9_b592_64c753db74e6level0_row0\" class=\"row_heading level0 row0\" >Male</th>\n",
       "                        <td id=\"T_711ab712_9bba_11e9_b592_64c753db74e6row0_col0\" class=\"data row0 col0\" >484</td>\n",
       "                        <td id=\"T_711ab712_9bba_11e9_b592_64c753db74e6row0_col1\" class=\"data row0 col1\" >84.0%</td>\n",
       "            </tr>\n",
       "            <tr>\n",
       "                        <th id=\"T_711ab712_9bba_11e9_b592_64c753db74e6level0_row1\" class=\"row_heading level0 row1\" >Female</th>\n",
       "                        <td id=\"T_711ab712_9bba_11e9_b592_64c753db74e6row1_col0\" class=\"data row1 col0\" >81</td>\n",
       "                        <td id=\"T_711ab712_9bba_11e9_b592_64c753db74e6row1_col1\" class=\"data row1 col1\" >14.1%</td>\n",
       "            </tr>\n",
       "            <tr>\n",
       "                        <th id=\"T_711ab712_9bba_11e9_b592_64c753db74e6level0_row2\" class=\"row_heading level0 row2\" >Other / Non-Disclosed</th>\n",
       "                        <td id=\"T_711ab712_9bba_11e9_b592_64c753db74e6row2_col0\" class=\"data row2 col0\" >11</td>\n",
       "                        <td id=\"T_711ab712_9bba_11e9_b592_64c753db74e6row2_col1\" class=\"data row2 col1\" >1.9%</td>\n",
       "            </tr>\n",
       "    </tbody></table>"
      ],
      "text/plain": [
       "<pandas.io.formats.style.Styler at 0x11af52c50>"
      ]
     },
     "execution_count": 47,
     "metadata": {},
     "output_type": "execute_result"
    }
   ],
   "source": [
    "no_dup_players = pur_data.drop_duplicates(['SN'], keep ='last')\n",
    "gender_counts = no_dup_players['Gender'].value_counts().reset_index()\n",
    "gender_counts['% of Players'] = gender_counts['Gender']/player_count * 100\n",
    "gender_counts.rename(columns = {'index': 'Gender', 'Gender': '# of Players'}, inplace = True)\n",
    "gender_counts.set_index(['Gender'], inplace = True)\n",
    "gender_counts.style.format({\"% of Players\": \"{:.1f}%\"})"
   ]
  },
  {
   "cell_type": "code",
   "execution_count": 48,
   "metadata": {},
   "outputs": [
    {
     "data": {
      "text/html": [
       "<style  type=\"text/css\" >\n",
       "</style><table id=\"T_716da076_9bba_11e9_b592_64c753db74e6\" ><thead>    <tr>        <th class=\"blank level0\" ></th>        <th class=\"col_heading level0 col0\" ># of Purchases</th>        <th class=\"col_heading level0 col1\" >Total Purchase Value</th>        <th class=\"col_heading level0 col2\" >Average Purchase Price</th>        <th class=\"col_heading level0 col3\" >Normalized Totals</th>    </tr>    <tr>        <th class=\"index_name level0\" >Gender</th>        <th class=\"blank\" ></th>        <th class=\"blank\" ></th>        <th class=\"blank\" ></th>        <th class=\"blank\" ></th>    </tr></thead><tbody>\n",
       "                <tr>\n",
       "                        <th id=\"T_716da076_9bba_11e9_b592_64c753db74e6level0_row0\" class=\"row_heading level0 row0\" >Female</th>\n",
       "                        <td id=\"T_716da076_9bba_11e9_b592_64c753db74e6row0_col0\" class=\"data row0 col0\" >113</td>\n",
       "                        <td id=\"T_716da076_9bba_11e9_b592_64c753db74e6row0_col1\" class=\"data row0 col1\" >$361.94</td>\n",
       "                        <td id=\"T_716da076_9bba_11e9_b592_64c753db74e6row0_col2\" class=\"data row0 col2\" >$3.20</td>\n",
       "                        <td id=\"T_716da076_9bba_11e9_b592_64c753db74e6row0_col3\" class=\"data row0 col3\" >$4.47</td>\n",
       "            </tr>\n",
       "            <tr>\n",
       "                        <th id=\"T_716da076_9bba_11e9_b592_64c753db74e6level0_row1\" class=\"row_heading level0 row1\" >Male</th>\n",
       "                        <td id=\"T_716da076_9bba_11e9_b592_64c753db74e6row1_col0\" class=\"data row1 col0\" >652</td>\n",
       "                        <td id=\"T_716da076_9bba_11e9_b592_64c753db74e6row1_col1\" class=\"data row1 col1\" >$1967.64</td>\n",
       "                        <td id=\"T_716da076_9bba_11e9_b592_64c753db74e6row1_col2\" class=\"data row1 col2\" >$3.02</td>\n",
       "                        <td id=\"T_716da076_9bba_11e9_b592_64c753db74e6row1_col3\" class=\"data row1 col3\" >$4.07</td>\n",
       "            </tr>\n",
       "            <tr>\n",
       "                        <th id=\"T_716da076_9bba_11e9_b592_64c753db74e6level0_row2\" class=\"row_heading level0 row2\" >Other / Non-Disclosed</th>\n",
       "                        <td id=\"T_716da076_9bba_11e9_b592_64c753db74e6row2_col0\" class=\"data row2 col0\" >15</td>\n",
       "                        <td id=\"T_716da076_9bba_11e9_b592_64c753db74e6row2_col1\" class=\"data row2 col1\" >$50.19</td>\n",
       "                        <td id=\"T_716da076_9bba_11e9_b592_64c753db74e6row2_col2\" class=\"data row2 col2\" >$3.35</td>\n",
       "                        <td id=\"T_716da076_9bba_11e9_b592_64c753db74e6row2_col3\" class=\"data row2 col3\" >$4.56</td>\n",
       "            </tr>\n",
       "    </tbody></table>"
      ],
      "text/plain": [
       "<pandas.io.formats.style.Styler at 0x11acf7438>"
      ]
     },
     "execution_count": 48,
     "metadata": {},
     "output_type": "execute_result"
    }
   ],
   "source": [
    "pur_count_by_gen = pd.DataFrame(pur_data.groupby('Gender')['Gender'].count())\n",
    "total_pur_by_gen = pd.DataFrame(pur_data.groupby('Gender')['Price'].sum())\n",
    "pur_analysis_gen = pd.merge(pur_count_by_gen, total_pur_by_gen, left_index = True, right_index = True)\n",
    "pur_analysis_gen.rename(columns = {'Gender': '# of Purchases', 'Price':'Total Purchase Value'}, inplace=True)\n",
    "pur_analysis_gen['Average Purchase Price'] = pur_analysis_gen['Total Purchase Value']/pur_analysis_gen['# of Purchases']\n",
    "pur_analysis_gen = pur_analysis_gen.merge(gender_counts, left_index = True, right_index = True)\n",
    "pur_analysis_gen['Normalized Totals'] = pur_analysis_gen['Total Purchase Value']/pur_analysis_gen['# of Players']\n",
    "pur_analysis_gen\n",
    "del pur_analysis_gen['% of Players']\n",
    "del pur_analysis_gen['# of Players']\n",
    "pur_analysis_gen.style.format({'Total Purchase Value': '${:.2f}', 'Average Purchase Price': '${:.2f}', 'Normalized Totals': '${:.2f}'})"
   ]
  },
  {
   "cell_type": "code",
   "execution_count": 49,
   "metadata": {},
   "outputs": [
    {
     "data": {
      "text/html": [
       "<style  type=\"text/css\" >\n",
       "</style><table id=\"T_71cfc8e6_9bba_11e9_b592_64c753db74e6\" ><thead>    <tr>        <th class=\"blank level0\" ></th>        <th class=\"col_heading level0 col0\" ># of Purchases</th>        <th class=\"col_heading level0 col1\" >Average Purchase Price</th>        <th class=\"col_heading level0 col2\" >Total Purchase Value</th>        <th class=\"col_heading level0 col3\" ># of Purchasers</th>        <th class=\"col_heading level0 col4\" >Normalized Totals</th>    </tr>    <tr>        <th class=\"index_name level0\" >Age</th>        <th class=\"blank\" ></th>        <th class=\"blank\" ></th>        <th class=\"blank\" ></th>        <th class=\"blank\" ></th>        <th class=\"blank\" ></th>    </tr></thead><tbody>\n",
       "                <tr>\n",
       "                        <th id=\"T_71cfc8e6_9bba_11e9_b592_64c753db74e6level0_row0\" class=\"row_heading level0 row0\" >10 - 14</th>\n",
       "                        <td id=\"T_71cfc8e6_9bba_11e9_b592_64c753db74e6row0_col0\" class=\"data row0 col0\" >28</td>\n",
       "                        <td id=\"T_71cfc8e6_9bba_11e9_b592_64c753db74e6row0_col1\" class=\"data row0 col1\" >$2.96</td>\n",
       "                        <td id=\"T_71cfc8e6_9bba_11e9_b592_64c753db74e6row0_col2\" class=\"data row0 col2\" >$82.78</td>\n",
       "                        <td id=\"T_71cfc8e6_9bba_11e9_b592_64c753db74e6row0_col3\" class=\"data row0 col3\" >22</td>\n",
       "                        <td id=\"T_71cfc8e6_9bba_11e9_b592_64c753db74e6row0_col4\" class=\"data row0 col4\" >$3.76</td>\n",
       "            </tr>\n",
       "            <tr>\n",
       "                        <th id=\"T_71cfc8e6_9bba_11e9_b592_64c753db74e6level0_row1\" class=\"row_heading level0 row1\" >15 - 19</th>\n",
       "                        <td id=\"T_71cfc8e6_9bba_11e9_b592_64c753db74e6row1_col0\" class=\"data row1 col0\" >136</td>\n",
       "                        <td id=\"T_71cfc8e6_9bba_11e9_b592_64c753db74e6row1_col1\" class=\"data row1 col1\" >$3.04</td>\n",
       "                        <td id=\"T_71cfc8e6_9bba_11e9_b592_64c753db74e6row1_col2\" class=\"data row1 col2\" >$412.89</td>\n",
       "                        <td id=\"T_71cfc8e6_9bba_11e9_b592_64c753db74e6row1_col3\" class=\"data row1 col3\" >107</td>\n",
       "                        <td id=\"T_71cfc8e6_9bba_11e9_b592_64c753db74e6row1_col4\" class=\"data row1 col4\" >$3.86</td>\n",
       "            </tr>\n",
       "            <tr>\n",
       "                        <th id=\"T_71cfc8e6_9bba_11e9_b592_64c753db74e6level0_row2\" class=\"row_heading level0 row2\" >20 - 24</th>\n",
       "                        <td id=\"T_71cfc8e6_9bba_11e9_b592_64c753db74e6row2_col0\" class=\"data row2 col0\" >365</td>\n",
       "                        <td id=\"T_71cfc8e6_9bba_11e9_b592_64c753db74e6row2_col1\" class=\"data row2 col1\" >$3.05</td>\n",
       "                        <td id=\"T_71cfc8e6_9bba_11e9_b592_64c753db74e6row2_col2\" class=\"data row2 col2\" >$1114.06</td>\n",
       "                        <td id=\"T_71cfc8e6_9bba_11e9_b592_64c753db74e6row2_col3\" class=\"data row2 col3\" >258</td>\n",
       "                        <td id=\"T_71cfc8e6_9bba_11e9_b592_64c753db74e6row2_col4\" class=\"data row2 col4\" >$4.32</td>\n",
       "            </tr>\n",
       "            <tr>\n",
       "                        <th id=\"T_71cfc8e6_9bba_11e9_b592_64c753db74e6level0_row3\" class=\"row_heading level0 row3\" >25 - 29</th>\n",
       "                        <td id=\"T_71cfc8e6_9bba_11e9_b592_64c753db74e6row3_col0\" class=\"data row3 col0\" >101</td>\n",
       "                        <td id=\"T_71cfc8e6_9bba_11e9_b592_64c753db74e6row3_col1\" class=\"data row3 col1\" >$2.90</td>\n",
       "                        <td id=\"T_71cfc8e6_9bba_11e9_b592_64c753db74e6row3_col2\" class=\"data row3 col2\" >$293.00</td>\n",
       "                        <td id=\"T_71cfc8e6_9bba_11e9_b592_64c753db74e6row3_col3\" class=\"data row3 col3\" >77</td>\n",
       "                        <td id=\"T_71cfc8e6_9bba_11e9_b592_64c753db74e6row3_col4\" class=\"data row3 col4\" >$3.81</td>\n",
       "            </tr>\n",
       "            <tr>\n",
       "                        <th id=\"T_71cfc8e6_9bba_11e9_b592_64c753db74e6level0_row4\" class=\"row_heading level0 row4\" >30 - 34</th>\n",
       "                        <td id=\"T_71cfc8e6_9bba_11e9_b592_64c753db74e6row4_col0\" class=\"data row4 col0\" >73</td>\n",
       "                        <td id=\"T_71cfc8e6_9bba_11e9_b592_64c753db74e6row4_col1\" class=\"data row4 col1\" >$2.93</td>\n",
       "                        <td id=\"T_71cfc8e6_9bba_11e9_b592_64c753db74e6row4_col2\" class=\"data row4 col2\" >$214.00</td>\n",
       "                        <td id=\"T_71cfc8e6_9bba_11e9_b592_64c753db74e6row4_col3\" class=\"data row4 col3\" >52</td>\n",
       "                        <td id=\"T_71cfc8e6_9bba_11e9_b592_64c753db74e6row4_col4\" class=\"data row4 col4\" >$4.12</td>\n",
       "            </tr>\n",
       "            <tr>\n",
       "                        <th id=\"T_71cfc8e6_9bba_11e9_b592_64c753db74e6level0_row5\" class=\"row_heading level0 row5\" >35 - 39</th>\n",
       "                        <td id=\"T_71cfc8e6_9bba_11e9_b592_64c753db74e6row5_col0\" class=\"data row5 col0\" >41</td>\n",
       "                        <td id=\"T_71cfc8e6_9bba_11e9_b592_64c753db74e6row5_col1\" class=\"data row5 col1\" >$3.60</td>\n",
       "                        <td id=\"T_71cfc8e6_9bba_11e9_b592_64c753db74e6row5_col2\" class=\"data row5 col2\" >$147.67</td>\n",
       "                        <td id=\"T_71cfc8e6_9bba_11e9_b592_64c753db74e6row5_col3\" class=\"data row5 col3\" >31</td>\n",
       "                        <td id=\"T_71cfc8e6_9bba_11e9_b592_64c753db74e6row5_col4\" class=\"data row5 col4\" >$4.76</td>\n",
       "            </tr>\n",
       "            <tr>\n",
       "                        <th id=\"T_71cfc8e6_9bba_11e9_b592_64c753db74e6level0_row6\" class=\"row_heading level0 row6\" >< 10</th>\n",
       "                        <td id=\"T_71cfc8e6_9bba_11e9_b592_64c753db74e6row6_col0\" class=\"data row6 col0\" >23</td>\n",
       "                        <td id=\"T_71cfc8e6_9bba_11e9_b592_64c753db74e6row6_col1\" class=\"data row6 col1\" >$3.35</td>\n",
       "                        <td id=\"T_71cfc8e6_9bba_11e9_b592_64c753db74e6row6_col2\" class=\"data row6 col2\" >$77.13</td>\n",
       "                        <td id=\"T_71cfc8e6_9bba_11e9_b592_64c753db74e6row6_col3\" class=\"data row6 col3\" >17</td>\n",
       "                        <td id=\"T_71cfc8e6_9bba_11e9_b592_64c753db74e6row6_col4\" class=\"data row6 col4\" >$4.54</td>\n",
       "            </tr>\n",
       "            <tr>\n",
       "                        <th id=\"T_71cfc8e6_9bba_11e9_b592_64c753db74e6level0_row7\" class=\"row_heading level0 row7\" >> 40</th>\n",
       "                        <td id=\"T_71cfc8e6_9bba_11e9_b592_64c753db74e6row7_col0\" class=\"data row7 col0\" >13</td>\n",
       "                        <td id=\"T_71cfc8e6_9bba_11e9_b592_64c753db74e6row7_col1\" class=\"data row7 col1\" >$2.94</td>\n",
       "                        <td id=\"T_71cfc8e6_9bba_11e9_b592_64c753db74e6row7_col2\" class=\"data row7 col2\" >$38.24</td>\n",
       "                        <td id=\"T_71cfc8e6_9bba_11e9_b592_64c753db74e6row7_col3\" class=\"data row7 col3\" >12</td>\n",
       "                        <td id=\"T_71cfc8e6_9bba_11e9_b592_64c753db74e6row7_col4\" class=\"data row7 col4\" >$3.19</td>\n",
       "            </tr>\n",
       "    </tbody></table>"
      ],
      "text/plain": [
       "<pandas.io.formats.style.Styler at 0x11af714a8>"
      ]
     },
     "execution_count": 49,
     "metadata": {},
     "output_type": "execute_result"
    }
   ],
   "source": [
    "pur_data.loc[(pur_data['Age'] < 10), 'age_bin'] = \"< 10\"\n",
    "pur_data.loc[(pur_data['Age'] >= 10) & (pur_data['Age'] <= 14), 'age_bin'] = \"10 - 14\"\n",
    "pur_data.loc[(pur_data['Age'] >= 15) & (pur_data['Age'] <= 19), 'age_bin'] = \"15 - 19\"\n",
    "pur_data.loc[(pur_data['Age'] >= 20) & (pur_data['Age'] <= 24), 'age_bin'] = \"20 - 24\"\n",
    "pur_data.loc[(pur_data['Age'] >= 25) & (pur_data['Age'] <= 29), 'age_bin'] = \"25 - 29\"\n",
    "pur_data.loc[(pur_data['Age'] >= 30) & (pur_data['Age'] <= 34), 'age_bin'] = \"30 - 34\"\n",
    "pur_data.loc[(pur_data['Age'] >= 35) & (pur_data['Age'] <= 39), 'age_bin'] = \"35 - 39\"\n",
    "pur_data.loc[(pur_data['Age'] >= 40), 'age_bin'] = \"> 40\"\n",
    "pur_count_age = pd.DataFrame(pur_data.groupby('age_bin')['SN'].count())\n",
    "avg_price_age = pd.DataFrame(pur_data.groupby('age_bin')['Price'].mean())\n",
    "tot_pur_age = pd.DataFrame(pur_data.groupby('age_bin')['Price'].sum())\n",
    "no_dup_age = pd.DataFrame(pur_data.drop_duplicates('SN', keep = 'last').groupby('age_bin')['SN'].count())\n",
    "merge_age = pd.merge(pur_count_age, avg_price_age, left_index = True, right_index = True).merge(tot_pur_age, left_index = True, right_index = True).merge(no_dup_age, left_index = True, right_index = True)\n",
    "merge_age.rename(columns = {\"SN_x\": \"# of Purchases\", \"Price_x\": \"Average Purchase Price\", \"Price_y\": \"Total Purchase Value\", \"SN_y\": \"# of Purchasers\"}, inplace = True)\n",
    "merge_age['Normalized Totals'] = merge_age['Total Purchase Value']/merge_age['# of Purchasers']\n",
    "merge_age.index.rename(\"Age\", inplace = True)\n",
    "merge_age.style.format({'Average Purchase Price': '${:.2f}', 'Total Purchase Value': '${:.2f}', 'Normalized Totals': '${:.2f}'})"
   ]
  },
  {
   "cell_type": "code",
   "execution_count": 50,
   "metadata": {},
   "outputs": [
    {
     "data": {
      "text/html": [
       "<style  type=\"text/css\" >\n",
       "</style><table id=\"T_72423f0c_9bba_11e9_b592_64c753db74e6\" ><thead>    <tr>        <th class=\"blank level0\" ></th>        <th class=\"col_heading level0 col0\" >Total Purchase Value</th>        <th class=\"col_heading level0 col1\" >Purchase Count</th>        <th class=\"col_heading level0 col2\" >Average Purchase Price</th>    </tr>    <tr>        <th class=\"index_name level0\" >SN</th>        <th class=\"blank\" ></th>        <th class=\"blank\" ></th>        <th class=\"blank\" ></th>    </tr></thead><tbody>\n",
       "                <tr>\n",
       "                        <th id=\"T_72423f0c_9bba_11e9_b592_64c753db74e6level0_row0\" class=\"row_heading level0 row0\" >Lisosia93</th>\n",
       "                        <td id=\"T_72423f0c_9bba_11e9_b592_64c753db74e6row0_col0\" class=\"data row0 col0\" >$18.96</td>\n",
       "                        <td id=\"T_72423f0c_9bba_11e9_b592_64c753db74e6row0_col1\" class=\"data row0 col1\" >5</td>\n",
       "                        <td id=\"T_72423f0c_9bba_11e9_b592_64c753db74e6row0_col2\" class=\"data row0 col2\" >$3.79</td>\n",
       "            </tr>\n",
       "            <tr>\n",
       "                        <th id=\"T_72423f0c_9bba_11e9_b592_64c753db74e6level0_row1\" class=\"row_heading level0 row1\" >Idastidru52</th>\n",
       "                        <td id=\"T_72423f0c_9bba_11e9_b592_64c753db74e6row1_col0\" class=\"data row1 col0\" >$15.45</td>\n",
       "                        <td id=\"T_72423f0c_9bba_11e9_b592_64c753db74e6row1_col1\" class=\"data row1 col1\" >4</td>\n",
       "                        <td id=\"T_72423f0c_9bba_11e9_b592_64c753db74e6row1_col2\" class=\"data row1 col2\" >$3.86</td>\n",
       "            </tr>\n",
       "            <tr>\n",
       "                        <th id=\"T_72423f0c_9bba_11e9_b592_64c753db74e6level0_row2\" class=\"row_heading level0 row2\" >Chamjask73</th>\n",
       "                        <td id=\"T_72423f0c_9bba_11e9_b592_64c753db74e6row2_col0\" class=\"data row2 col0\" >$13.83</td>\n",
       "                        <td id=\"T_72423f0c_9bba_11e9_b592_64c753db74e6row2_col1\" class=\"data row2 col1\" >3</td>\n",
       "                        <td id=\"T_72423f0c_9bba_11e9_b592_64c753db74e6row2_col2\" class=\"data row2 col2\" >$4.61</td>\n",
       "            </tr>\n",
       "            <tr>\n",
       "                        <th id=\"T_72423f0c_9bba_11e9_b592_64c753db74e6level0_row3\" class=\"row_heading level0 row3\" >Iral74</th>\n",
       "                        <td id=\"T_72423f0c_9bba_11e9_b592_64c753db74e6row3_col0\" class=\"data row3 col0\" >$13.62</td>\n",
       "                        <td id=\"T_72423f0c_9bba_11e9_b592_64c753db74e6row3_col1\" class=\"data row3 col1\" >4</td>\n",
       "                        <td id=\"T_72423f0c_9bba_11e9_b592_64c753db74e6row3_col2\" class=\"data row3 col2\" >$3.40</td>\n",
       "            </tr>\n",
       "            <tr>\n",
       "                        <th id=\"T_72423f0c_9bba_11e9_b592_64c753db74e6level0_row4\" class=\"row_heading level0 row4\" >Iskadarya95</th>\n",
       "                        <td id=\"T_72423f0c_9bba_11e9_b592_64c753db74e6row4_col0\" class=\"data row4 col0\" >$13.10</td>\n",
       "                        <td id=\"T_72423f0c_9bba_11e9_b592_64c753db74e6row4_col1\" class=\"data row4 col1\" >3</td>\n",
       "                        <td id=\"T_72423f0c_9bba_11e9_b592_64c753db74e6row4_col2\" class=\"data row4 col2\" >$4.37</td>\n",
       "            </tr>\n",
       "    </tbody></table>"
      ],
      "text/plain": [
       "<pandas.io.formats.style.Styler at 0x119f58ac8>"
      ]
     },
     "execution_count": 50,
     "metadata": {},
     "output_type": "execute_result"
    }
   ],
   "source": [
    "purchase_amt_by_SN = pd.DataFrame(pur_data.groupby('SN')['Price'].sum())\n",
    "num_purchase_by_SN = pd.DataFrame(pur_data.groupby('SN')['Price'].count())\n",
    "avg_purchase_by_SN = pd.DataFrame(pur_data.groupby('SN')['Price'].mean())\n",
    "merged_top5 = pd.merge(purchase_amt_by_SN, num_purchase_by_SN, left_index = True, right_index = True).merge(avg_purchase_by_SN, left_index=True, right_index=True)\n",
    "merged_top5.rename(columns = {'Price_x': 'Total Purchase Value', 'Price_y':'Purchase Count', 'Price':'Average Purchase Price'}, inplace = True)\n",
    "merged_top5.sort_values('Total Purchase Value', ascending = False, inplace=True)\n",
    "merged_top5 = merged_top5.head()\n",
    "merged_top5.style.format({'Total Purchase Value': '${:.2f}', 'Average Purchase Price': '${:.2f}'})"
   ]
  },
  {
   "cell_type": "code",
   "execution_count": 60,
   "metadata": {},
   "outputs": [
    {
     "data": {
      "text/html": [
       "<style  type=\"text/css\" >\n",
       "</style><table id=\"T_08a45768_9bbc_11e9_b592_64c753db74e6\" ><thead>    <tr>        <th class=\"blank level0\" ></th>        <th class=\"col_heading level0 col0\" >Item Name</th>        <th class=\"col_heading level0 col1\" >Purchase Count</th>        <th class=\"col_heading level0 col2\" >Item Price</th>        <th class=\"col_heading level0 col3\" >Total Purchase Value</th>    </tr>    <tr>        <th class=\"index_name level0\" >Item ID</th>        <th class=\"blank\" ></th>        <th class=\"blank\" ></th>        <th class=\"blank\" ></th>        <th class=\"blank\" ></th>    </tr></thead><tbody>\n",
       "                <tr>\n",
       "                        <th id=\"T_08a45768_9bbc_11e9_b592_64c753db74e6level0_row0\" class=\"row_heading level0 row0\" >0</th>\n",
       "                        <td id=\"T_08a45768_9bbc_11e9_b592_64c753db74e6row0_col0\" class=\"data row0 col0\" >Splinter</td>\n",
       "                        <td id=\"T_08a45768_9bbc_11e9_b592_64c753db74e6row0_col1\" class=\"data row0 col1\" >4</td>\n",
       "                        <td id=\"T_08a45768_9bbc_11e9_b592_64c753db74e6row0_col2\" class=\"data row0 col2\" >$1.28</td>\n",
       "                        <td id=\"T_08a45768_9bbc_11e9_b592_64c753db74e6row0_col3\" class=\"data row0 col3\" >$5.12</td>\n",
       "            </tr>\n",
       "            <tr>\n",
       "                        <th id=\"T_08a45768_9bbc_11e9_b592_64c753db74e6level0_row1\" class=\"row_heading level0 row1\" >1</th>\n",
       "                        <td id=\"T_08a45768_9bbc_11e9_b592_64c753db74e6row1_col0\" class=\"data row1 col0\" >Crucifer</td>\n",
       "                        <td id=\"T_08a45768_9bbc_11e9_b592_64c753db74e6row1_col1\" class=\"data row1 col1\" >3</td>\n",
       "                        <td id=\"T_08a45768_9bbc_11e9_b592_64c753db74e6row1_col2\" class=\"data row1 col2\" >$3.26</td>\n",
       "                        <td id=\"T_08a45768_9bbc_11e9_b592_64c753db74e6row1_col3\" class=\"data row1 col3\" >$9.78</td>\n",
       "            </tr>\n",
       "            <tr>\n",
       "                        <th id=\"T_08a45768_9bbc_11e9_b592_64c753db74e6level0_row2\" class=\"row_heading level0 row2\" >2</th>\n",
       "                        <td id=\"T_08a45768_9bbc_11e9_b592_64c753db74e6row2_col0\" class=\"data row2 col0\" >Verdict</td>\n",
       "                        <td id=\"T_08a45768_9bbc_11e9_b592_64c753db74e6row2_col1\" class=\"data row2 col1\" >6</td>\n",
       "                        <td id=\"T_08a45768_9bbc_11e9_b592_64c753db74e6row2_col2\" class=\"data row2 col2\" >$2.48</td>\n",
       "                        <td id=\"T_08a45768_9bbc_11e9_b592_64c753db74e6row2_col3\" class=\"data row2 col3\" >$14.88</td>\n",
       "            </tr>\n",
       "            <tr>\n",
       "                        <th id=\"T_08a45768_9bbc_11e9_b592_64c753db74e6level0_row3\" class=\"row_heading level0 row3\" >3</th>\n",
       "                        <td id=\"T_08a45768_9bbc_11e9_b592_64c753db74e6row3_col0\" class=\"data row3 col0\" >Phantomlight</td>\n",
       "                        <td id=\"T_08a45768_9bbc_11e9_b592_64c753db74e6row3_col1\" class=\"data row3 col1\" >6</td>\n",
       "                        <td id=\"T_08a45768_9bbc_11e9_b592_64c753db74e6row3_col2\" class=\"data row3 col2\" >$2.49</td>\n",
       "                        <td id=\"T_08a45768_9bbc_11e9_b592_64c753db74e6row3_col3\" class=\"data row3 col3\" >$14.94</td>\n",
       "            </tr>\n",
       "            <tr>\n",
       "                        <th id=\"T_08a45768_9bbc_11e9_b592_64c753db74e6level0_row4\" class=\"row_heading level0 row4\" >4</th>\n",
       "                        <td id=\"T_08a45768_9bbc_11e9_b592_64c753db74e6row4_col0\" class=\"data row4 col0\" >Bloodlord's Fetish</td>\n",
       "                        <td id=\"T_08a45768_9bbc_11e9_b592_64c753db74e6row4_col1\" class=\"data row4 col1\" >5</td>\n",
       "                        <td id=\"T_08a45768_9bbc_11e9_b592_64c753db74e6row4_col2\" class=\"data row4 col2\" >$1.70</td>\n",
       "                        <td id=\"T_08a45768_9bbc_11e9_b592_64c753db74e6row4_col3\" class=\"data row4 col3\" >$8.50</td>\n",
       "            </tr>\n",
       "    </tbody></table>"
      ],
      "text/plain": [
       "<pandas.io.formats.style.Styler at 0x11ad4ef60>"
      ]
     },
     "execution_count": 60,
     "metadata": {},
     "output_type": "execute_result"
    }
   ],
   "source": [
    "top5_items_ID = pd.DataFrame(pur_data.groupby('Item ID')['Item ID'].count())\n",
    "#top5_items_ID.sort_values(axis=4, ascending = False, inplace = True)\n",
    "top5_items_ID = top5_items_ID.iloc[0:5][:]\n",
    "top5_items_total = pd.DataFrame(pur_data.groupby('Item ID')['Price'].sum())\n",
    "top5_items = pd.merge(top5_items_ID, top5_items_total, left_index = True, right_index = True)\n",
    "no_dup_items = pur_data.drop_duplicates(['Item ID'], keep = 'last')\n",
    "top5_merge_ID = pd.merge(top5_items, no_dup_items, left_index = True, right_on = 'Item ID')\n",
    "top5_merge_ID = top5_merge_ID[['Item ID', 'Item Name', 'Item ID_x', 'Price_y', 'Price_x']]\n",
    "top5_merge_ID.set_index(['Item ID'], inplace = True)\n",
    "top5_merge_ID.rename(columns =  {'Item ID_x': 'Purchase Count', 'Price_y': 'Item Price', 'Price_x': 'Total Purchase Value'}, inplace=True)\n",
    "top5_merge_ID.style.format({'Item Price': '${:.2f}', 'Total Purchase Value': '${:.2f}'})"
   ]
  },
  {
   "cell_type": "code",
   "execution_count": 22,
   "metadata": {},
   "outputs": [
    {
     "data": {
      "text/html": [
       "<style  type=\"text/css\" >\n",
       "</style><table id=\"T_338e3c9a_9bb8_11e9_b592_64c753db74e6\" ><thead>    <tr>        <th class=\"blank level0\" ></th>        <th class=\"col_heading level0 col0\" >Item Name</th>        <th class=\"col_heading level0 col1\" >Purchase Count</th>        <th class=\"col_heading level0 col2\" >Item Price</th>        <th class=\"col_heading level0 col3\" >Total Purchase Value</th>    </tr>    <tr>        <th class=\"index_name level0\" >Item ID</th>        <th class=\"blank\" ></th>        <th class=\"blank\" ></th>        <th class=\"blank\" ></th>        <th class=\"blank\" ></th>    </tr></thead><tbody>\n",
       "                <tr>\n",
       "                        <th id=\"T_338e3c9a_9bb8_11e9_b592_64c753db74e6level0_row0\" class=\"row_heading level0 row0\" >178</th>\n",
       "                        <td id=\"T_338e3c9a_9bb8_11e9_b592_64c753db74e6row0_col0\" class=\"data row0 col0\" >Oathbreaker, Last Hope of the Breaking Storm</td>\n",
       "                        <td id=\"T_338e3c9a_9bb8_11e9_b592_64c753db74e6row0_col1\" class=\"data row0 col1\" >12</td>\n",
       "                        <td id=\"T_338e3c9a_9bb8_11e9_b592_64c753db74e6row0_col2\" class=\"data row0 col2\" >$4.23</td>\n",
       "                        <td id=\"T_338e3c9a_9bb8_11e9_b592_64c753db74e6row0_col3\" class=\"data row0 col3\" >$50.76</td>\n",
       "            </tr>\n",
       "            <tr>\n",
       "                        <th id=\"T_338e3c9a_9bb8_11e9_b592_64c753db74e6level0_row1\" class=\"row_heading level0 row1\" >82</th>\n",
       "                        <td id=\"T_338e3c9a_9bb8_11e9_b592_64c753db74e6row1_col0\" class=\"data row1 col0\" >Nirvana</td>\n",
       "                        <td id=\"T_338e3c9a_9bb8_11e9_b592_64c753db74e6row1_col1\" class=\"data row1 col1\" >9</td>\n",
       "                        <td id=\"T_338e3c9a_9bb8_11e9_b592_64c753db74e6row1_col2\" class=\"data row1 col2\" >$4.90</td>\n",
       "                        <td id=\"T_338e3c9a_9bb8_11e9_b592_64c753db74e6row1_col3\" class=\"data row1 col3\" >$44.10</td>\n",
       "            </tr>\n",
       "            <tr>\n",
       "                        <th id=\"T_338e3c9a_9bb8_11e9_b592_64c753db74e6level0_row2\" class=\"row_heading level0 row2\" >145</th>\n",
       "                        <td id=\"T_338e3c9a_9bb8_11e9_b592_64c753db74e6row2_col0\" class=\"data row2 col0\" >Fiery Glass Crusader</td>\n",
       "                        <td id=\"T_338e3c9a_9bb8_11e9_b592_64c753db74e6row2_col1\" class=\"data row2 col1\" >9</td>\n",
       "                        <td id=\"T_338e3c9a_9bb8_11e9_b592_64c753db74e6row2_col2\" class=\"data row2 col2\" >$4.58</td>\n",
       "                        <td id=\"T_338e3c9a_9bb8_11e9_b592_64c753db74e6row2_col3\" class=\"data row2 col3\" >$41.22</td>\n",
       "            </tr>\n",
       "            <tr>\n",
       "                        <th id=\"T_338e3c9a_9bb8_11e9_b592_64c753db74e6level0_row3\" class=\"row_heading level0 row3\" >92</th>\n",
       "                        <td id=\"T_338e3c9a_9bb8_11e9_b592_64c753db74e6row3_col0\" class=\"data row3 col0\" >Final Critic</td>\n",
       "                        <td id=\"T_338e3c9a_9bb8_11e9_b592_64c753db74e6row3_col1\" class=\"data row3 col1\" >8</td>\n",
       "                        <td id=\"T_338e3c9a_9bb8_11e9_b592_64c753db74e6row3_col2\" class=\"data row3 col2\" >$4.88</td>\n",
       "                        <td id=\"T_338e3c9a_9bb8_11e9_b592_64c753db74e6row3_col3\" class=\"data row3 col3\" >$39.04</td>\n",
       "            </tr>\n",
       "            <tr>\n",
       "                        <th id=\"T_338e3c9a_9bb8_11e9_b592_64c753db74e6level0_row4\" class=\"row_heading level0 row4\" >103</th>\n",
       "                        <td id=\"T_338e3c9a_9bb8_11e9_b592_64c753db74e6row4_col0\" class=\"data row4 col0\" >Singed Scalpel</td>\n",
       "                        <td id=\"T_338e3c9a_9bb8_11e9_b592_64c753db74e6row4_col1\" class=\"data row4 col1\" >8</td>\n",
       "                        <td id=\"T_338e3c9a_9bb8_11e9_b592_64c753db74e6row4_col2\" class=\"data row4 col2\" >$4.35</td>\n",
       "                        <td id=\"T_338e3c9a_9bb8_11e9_b592_64c753db74e6row4_col3\" class=\"data row4 col3\" >$34.80</td>\n",
       "            </tr>\n",
       "    </tbody></table>"
      ],
      "text/plain": [
       "<pandas.io.formats.style.Styler at 0x119f58668>"
      ]
     },
     "execution_count": 22,
     "metadata": {},
     "output_type": "execute_result"
    }
   ],
   "source": [
    "top5_profit = pd.DataFrame(pur_data.groupby('Item ID')['Price'].sum())\n",
    "top5_profit.sort_values('Price', ascending = False, inplace = True)\n",
    "top5_profit = top5_profit.iloc[0:5][:]\n",
    "pur_count_profit = pd.DataFrame(pur_data.groupby('Item ID')['Item ID'].count())\n",
    "top5_profit = pd.merge(top5_profit, pur_count_profit, left_index = True, right_index = True, how = 'left')\n",
    "top5_merge_profit = pd.merge(top5_profit, no_dup_items, left_index = True, right_on = 'Item ID', how = 'left')\n",
    "top5_merge_profit = top5_merge_profit[['Item ID', 'Item Name', 'Item ID_x', 'Price_y','Price_x']]\n",
    "top5_merge_profit.set_index(['Item ID'], inplace=True)\n",
    "top5_merge_profit.rename(columns = {'Item ID_x': 'Purchase Count', 'Price_y': 'Item Price', 'Price_x': 'Total Purchase Value'}, inplace = True)\n",
    "top5_merge_profit.style.format({'Item Price': '${:.2f}', 'Total Purchase Value': '${:.2f}'})"
   ]
  }
 ],
 "metadata": {
  "kernelspec": {
   "display_name": "Python 3",
   "language": "python",
   "name": "python3"
  },
  "language_info": {
   "codemirror_mode": {
    "name": "ipython",
    "version": 3
   },
   "file_extension": ".py",
   "mimetype": "text/x-python",
   "name": "python",
   "nbconvert_exporter": "python",
   "pygments_lexer": "ipython3",
   "version": "3.7.3"
  }
 },
 "nbformat": 4,
 "nbformat_minor": 2
}
